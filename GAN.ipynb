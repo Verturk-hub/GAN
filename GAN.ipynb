{
 "cells": [
  {
   "cell_type": "code",
   "execution_count": 1,
   "source": [
    "import torch\r\n",
    "from torch import nn"
   ],
   "outputs": [],
   "metadata": {}
  },
  {
   "cell_type": "code",
   "execution_count": 2,
   "source": [
    "import math\r\n",
    "import matplotlib.pyplot as plt"
   ],
   "outputs": [],
   "metadata": {}
  },
  {
   "cell_type": "code",
   "execution_count": 3,
   "source": [
    "torch.manual_seed(111)"
   ],
   "outputs": [
    {
     "output_type": "execute_result",
     "data": {
      "text/plain": [
       "<torch._C.Generator at 0x1da9ec0b7b0>"
      ]
     },
     "metadata": {},
     "execution_count": 3
    }
   ],
   "metadata": {}
  },
  {
   "cell_type": "code",
   "execution_count": 4,
   "source": [
    "train_data_length = 1024\r\n",
    "train_data = torch.zeros((train_data_length, 2))\r\n",
    "train_data[:,0] = 2 * math.pi * torch.rand(train_data_length)\r\n",
    "train_data[:,1] = torch.sin(train_data[:,0])\r\n",
    "train_labels = torch.zeros (train_data_length)\r\n",
    "train_set = [(train_data[i],train_labels[i]) for i in range(train_data_length)]"
   ],
   "outputs": [],
   "metadata": {}
  },
  {
   "cell_type": "code",
   "execution_count": 5,
   "source": [
    "plt.plot(train_data[:,0], train_data[:,1], '.')"
   ],
   "outputs": [
    {
     "output_type": "execute_result",
     "data": {
      "text/plain": [
       "[<matplotlib.lines.Line2D at 0x1daa1aedb50>]"
      ]
     },
     "metadata": {},
     "execution_count": 5
    },
    {
     "output_type": "display_data",
     "data": {
      "image/png": "[encoded data removed]",
      "text/plain": [
       "<Figure size 432x288 with 1 Axes>"
      ]
     },
     "metadata": {
      "needs_background": "light"
     }
    }
   ],
   "metadata": {}
  },
  {
   "cell_type": "code",
   "execution_count": 6,
   "source": [
    "batch_size = 32\r\n",
    "train_loader = torch.utils.data.DataLoader(train_set, batch_size=batch_size, shuffle=True)"
   ],
   "outputs": [],
   "metadata": {}
  },
  {
   "cell_type": "code",
   "execution_count": 7,
   "source": [
    "class Discriminator(nn.Module):\r\n",
    "    def __init__(self):\r\n",
    "        super().__init__()\r\n",
    "        self.model = nn.Sequential(\r\n",
    "            nn.Linear(2, 256),\r\n",
    "            nn.ReLU(),\r\n",
    "            nn.Dropout(0.3),\r\n",
    "            nn.Linear(256, 128),\r\n",
    "            nn.ReLU(),\r\n",
    "            nn.Dropout(0.3),\r\n",
    "            nn.Linear(128, 64),\r\n",
    "            nn.ReLU(),\r\n",
    "            nn.Dropout(0.3),\r\n",
    "            nn.Linear(64, 1),\r\n",
    "            nn.Sigmoid(),\r\n",
    "        )\r\n",
    "\r\n",
    "    def forward(self, x):\r\n",
    "        output = self.model(x)\r\n",
    "        return output"
   ],
   "outputs": [],
   "metadata": {}
  },
  {
   "cell_type": "code",
   "execution_count": 8,
   "source": [
    "discriminator = Discriminator()"
   ],
   "outputs": [],
   "metadata": {}
  },
  {
   "cell_type": "code",
   "execution_count": 9,
   "source": [
    "class Generator(nn.Module):\r\n",
    "    def __init__(self):\r\n",
    "        super().__init__()\r\n",
    "        self.model = nn.Sequential(\r\n",
    "            nn.Linear(2, 16),\r\n",
    "            nn.ReLU(),\r\n",
    "            nn.Linear(16, 32),\r\n",
    "            nn.ReLU(),\r\n",
    "            nn.Linear(32, 2),\r\n",
    "        )\r\n",
    "\r\n",
    "    def forward(self, x):\r\n",
    "        output = self.model(x)\r\n",
    "        return output"
   ],
   "outputs": [],
   "metadata": {}
  },
  {
   "cell_type": "code",
   "execution_count": 10,
   "source": [
    "generator = Generator()"
   ],
   "outputs": [],
   "metadata": {}
  },
  {
   "cell_type": "code",
   "execution_count": 11,
   "source": [
    "lr = 0.001\r\n",
    "num_epochs = 300\r\n",
    "loss_function = nn.BCELoss()"
   ],
   "outputs": [],
   "metadata": {}
  },
  {
   "cell_type": "code",
   "execution_count": 12,
   "source": [
    "optimizer_discriminator = torch.optim.Adam(discriminator.parameters(), lr=lr)\r\n",
    "optimizer_generator = torch.optim.Adam(generator.parameters(), lr=lr)"
   ],
   "outputs": [],
   "metadata": {}
  },
  {
   "cell_type": "code",
   "execution_count": 13,
   "source": [
    "#This data will be used to train discriminator\r\n",
    "for epoch in range(num_epochs):\r\n",
    "    for n, (real_samples, _) in enumerate(train_loader):\r\n",
    "        real_samples_labels = torch.ones((batch_size,1))\r\n",
    "        latent_space_samples = torch.ones((batch_size,2))\r\n",
    "        generated_samples = generator(latent_space_samples)\r\n",
    "        generated_samples_labels = torch.ones((batch_size,1))\r\n",
    "        all_samples = torch.cat((real_samples,generated_samples))\r\n",
    "        all_samples_labels = torch.cat((real_samples_labels,generated_samples_labels))"
   ],
   "outputs": [],
   "metadata": {}
  },
  {
   "cell_type": "code",
   "execution_count": 14,
   "source": [
    "#Train the discriminator\r\n",
    "discriminator.zero_grad() #clear the gradients so they don't get accumulated\r\n",
    "output_discriminator = discriminator(all_samples)\r\n",
    "loss_discriminator = loss_function(\r\n",
    "output_discriminator, all_samples_labels)\r\n",
    "loss_discriminator.backward()\r\n",
    "optimizer_discriminator.step()"
   ],
   "outputs": [],
   "metadata": {}
  },
  {
   "cell_type": "code",
   "execution_count": 15,
   "source": [
    "#Train the generator\r\n",
    "generator.zero_grad()  #clear the gradients so they don't get accumulated\r\n",
    "generated_samples = generator(latent_space_samples)\r\n",
    "output_discriminator_generated = discriminator(generated_samples)\r\n",
    "loss_generator = loss_function(\r\n",
    "output_discriminator_generated, real_samples_labels\r\n",
    ")\r\n",
    "loss_generator.backward()\r\n",
    "optimizer_generator.step()"
   ],
   "outputs": [],
   "metadata": {}
  },
  {
   "cell_type": "code",
   "execution_count": 16,
   "source": [
    "if epoch % 10 == 0 and n == batch_size - 1:\r\n",
    "    print(f\"Epoch: {epoch} Loss D: {loss_discriminator}\")\r\n",
    "    print(f\"Epoch: {epoch} Loss G: {loss_generator}\")"
   ],
   "outputs": [],
   "metadata": {}
  },
  {
   "cell_type": "code",
   "execution_count": 17,
   "source": [
    "latent_space_samples = torch.randn(100,2)\r\n",
    "generated_samples = generator(latent_space_samples)"
   ],
   "outputs": [],
   "metadata": {}
  },
  {
   "cell_type": "code",
   "execution_count": 19,
   "source": [
    "generated_samples = generated_samples.detach()   #To return a tensor from the Pytorch\r\n",
    "plt.plot(generated_samples[:,0], generated_samples[:,1], \".\")"
   ],
   "outputs": [
    {
     "output_type": "execute_result",
     "data": {
      "text/plain": [
       "[<matplotlib.lines.Line2D at 0x1daa29303a0>]"
      ]
     },
     "metadata": {},
     "execution_count": 19
    },
    {
     "output_type": "display_data",
     "data": {
      "image/png": "[encoded data removed]",
      "text/plain": [
       "<Figure size 432x288 with 1 Axes>"
      ]
     },
     "metadata": {
      "needs_background": "light"
     }
    }
   ],
   "metadata": {}
  }
 ],
 "metadata": {
  "orig_nbformat": 4,
  "language_info": {
   "name": "python",
   "version": "3.8.12",
   "mimetype": "text/x-python",
   "codemirror_mode": {
    "name": "ipython",
    "version": 3
   },
   "pygments_lexer": "ipython3",
   "nbconvert_exporter": "python",
   "file_extension": ".py"
  },
  "kernelspec": {
   "name": "python3",
   "display_name": "Python 3.8.12 64-bit ('ml': conda)"
  },
  "interpreter": {
   "hash": "ff1e2c4a7e03eeb4e26e4d26d514da215ebf38dfce64ba6fdcc533779cdbe8b5"
  }
 },
 "nbformat": 4,
 "nbformat_minor": 2
}